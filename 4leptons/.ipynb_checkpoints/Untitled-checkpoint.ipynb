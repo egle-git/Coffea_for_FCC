{
 "cells": [
  {
   "cell_type": "code",
   "execution_count": 8,
   "id": "ae1c553a-b26b-4fca-ad93-e819c39e8b2d",
   "metadata": {},
   "outputs": [
    {
     "name": "stdout",
     "output_type": "stream",
     "text": [
      "/opt/conda/lib/\n"
     ]
    }
   ],
   "source": [
    "import pyarrow\n",
    "import os\n",
    "print(os.environ[\"LD_LIBRARY_PATH\"])"
   ]
  },
  {
   "cell_type": "code",
   "execution_count": 2,
   "id": "b9e40170-e3ce-4025-b121-5934bbc9a808",
   "metadata": {},
   "outputs": [],
   "source": [
    "from coffea.nanoevents import BaseSchema"
   ]
  },
  {
   "cell_type": "code",
   "execution_count": 9,
   "id": "4e11180b-1876-4a6b-b383-329bcac6f576",
   "metadata": {},
   "outputs": [
    {
     "name": "stdout",
     "output_type": "stream",
     "text": [
      "/usr/local/bin/python\n"
     ]
    }
   ],
   "source": [
    "!which python"
   ]
  },
  {
   "cell_type": "code",
   "execution_count": 2,
   "id": "a4bf2dcd-c4f4-41a8-80cb-434d14df1f44",
   "metadata": {},
   "outputs": [],
   "source": [
    "import coffea\n"
   ]
  },
  {
   "cell_type": "code",
   "execution_count": 3,
   "id": "cab0ba69-4f4c-4ba2-bb40-977616cf724c",
   "metadata": {},
   "outputs": [
    {
     "data": {
      "text/plain": [
       "'2025.7.4.dev1+gc956091'"
      ]
     },
     "execution_count": 3,
     "metadata": {},
     "output_type": "execute_result"
    }
   ],
   "source": [
    "coffea.__version__"
   ]
  }
 ],
 "metadata": {
  "kernelspec": {
   "display_name": "Python 3 (ipykernel)",
   "language": "python",
   "name": "python3"
  },
  "language_info": {
   "codemirror_mode": {
    "name": "ipython",
    "version": 3
   },
   "file_extension": ".py",
   "mimetype": "text/x-python",
   "name": "python",
   "nbconvert_exporter": "python",
   "pygments_lexer": "ipython3",
   "version": "3.12.5"
  }
 },
 "nbformat": 4,
 "nbformat_minor": 5
}
