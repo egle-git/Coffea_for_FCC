{
 "cells": [
  {
   "cell_type": "code",
   "execution_count": 27,
   "id": "6f6736eb-fff3-48c6-8bee-4530053911ce",
   "metadata": {},
   "outputs": [],
   "source": [
    "from coffea.processor import ProcessorABC"
   ]
  },
  {
   "cell_type": "code",
   "execution_count": 28,
   "id": "e888e929-60d2-4967-a312-fd540a5e315a",
   "metadata": {},
   "outputs": [],
   "source": [
    "import hist.dask as hda"
   ]
  },
  {
   "cell_type": "code",
   "execution_count": 29,
   "id": "0ca1d919-813f-4312-b81a-7f1706f179fe",
   "metadata": {},
   "outputs": [],
   "source": [
    "import awkward"
   ]
  },
  {
   "cell_type": "code",
   "execution_count": 30,
   "id": "9a5ba431-6f35-48bc-99cd-00af2306477c",
   "metadata": {},
   "outputs": [],
   "source": [
    "class SimpleAnalysis(ProcessorABC): # Basic Processor (Most Imp)\n",
    "    def __init__(self):\n",
    "        pass\n",
    "    def process(self,events): # Actual computation\n",
    "        pt = events.Electron.pt\n",
    "        h = hda.Hist.new.Reg(100,0,500).Double()\n",
    "        h.fill(awkward.flatten(pt))\n",
    "        output = {\n",
    "            \"Electron\" : {\n",
    "                \"Tranverse Momentum\":h\n",
    "            }\n",
    "        }\n",
    "        return output\n",
    "    def postprocess(self):\n",
    "        pass"
   ]
  },
  {
   "cell_type": "code",
   "execution_count": 31,
   "id": "a27abe01-e34f-4fe3-9d31-828fd448ee52",
   "metadata": {},
   "outputs": [],
   "source": [
    "fileset = {\n",
    "    \"ActualData\":\n",
    "    {\n",
    "        \"files\":\n",
    "        {\n",
    "            \"2025-06-15-hsf-india-tutorial-bangalore/data/SMHiggsToZZTo4L.root\":\"Events\"\n",
    "            # \"../../../../../../../../../../../coffea-fcc-analyses/data/CMS_Run2018A_MET/0F8C0C8C-63E4-1D4E-A8DF-506BDB55BD43.root\":\"Events\",\n",
    "            # \"../../../../../../../../../../../coffea-fcc-analyses/data/CMS_Run2018A_MET/0F8C0C8C-63E4-1D4E-A8DF-506BDB55BD43.root\":\"Events\"\n",
    "        },\n",
    "    },\n",
    "    \"SimulatedData\":\n",
    "    {\n",
    "        \"files\":\n",
    "        {\n",
    "            \"2025-06-15-hsf-india-tutorial-bangalore/data/SMHiggsToZZTo4L.root\":\"Events\"\n",
    "            # \"../../../../../../../../../../../coffea-fcc-analyses/data/CMS_MC/AB153EDD-63CA-F340-B8E3-9A2E07FB52B3.root\":\"Events\",\n",
    "            # \"../../../../../../../../../../../coffea-fcc-analyses/data/CMS_MC/AB153EDD-63CA-F340-B8E3-9A2E07FB52B3.root\":\"Events\",\n",
    "        }\n",
    "    }\n",
    "}"
   ]
  },
  {
   "cell_type": "code",
   "execution_count": 32,
   "id": "a77e9a85-d941-4a3c-9c03-d7782561ad22",
   "metadata": {},
   "outputs": [],
   "source": [
    "from coffea.dataset_tools import preprocess"
   ]
  },
  {
   "cell_type": "code",
   "execution_count": 33,
   "id": "29f7be51-faa8-41f7-9c5b-3712dce5ca9a",
   "metadata": {},
   "outputs": [],
   "source": [
    "a, b = preprocess(\n",
    "    fileset\n",
    ")"
   ]
  },
  {
   "cell_type": "code",
   "execution_count": 34,
   "id": "841da89c-f868-4c55-b1d1-b552aafbee2e",
   "metadata": {},
   "outputs": [],
   "source": [
    "from coffea.dataset_tools import apply_to_fileset"
   ]
  },
  {
   "cell_type": "code",
   "execution_count": 35,
   "id": "8a5df086-c8bd-41e5-b7ec-ab7b396fe635",
   "metadata": {},
   "outputs": [],
   "source": [
    "from coffea.nanoevents import NanoAODSchema"
   ]
  },
  {
   "cell_type": "code",
   "execution_count": 36,
   "id": "5431b742-c27e-4025-96e8-2c1b45743e84",
   "metadata": {},
   "outputs": [
    {
     "name": "stderr",
     "output_type": "stream",
     "text": [
      "/usr/local/lib/python3.12/site-packages/coffea/nanoevents/schemas/nanoaod.py:264: RuntimeWarning: Missing cross-reference index for Electron_jetIdx => Jet\n",
      "  warnings.warn(\n",
      "/usr/local/lib/python3.12/site-packages/coffea/nanoevents/schemas/nanoaod.py:264: RuntimeWarning: Missing cross-reference index for Electron_photonIdx => Photon\n",
      "  warnings.warn(\n",
      "/usr/local/lib/python3.12/site-packages/coffea/nanoevents/schemas/nanoaod.py:264: RuntimeWarning: Missing cross-reference index for LowPtElectron_electronIdx => Electron\n",
      "  warnings.warn(\n",
      "/usr/local/lib/python3.12/site-packages/coffea/nanoevents/schemas/nanoaod.py:264: RuntimeWarning: Missing cross-reference index for LowPtElectron_photonIdx => Photon\n",
      "  warnings.warn(\n",
      "/usr/local/lib/python3.12/site-packages/coffea/nanoevents/schemas/nanoaod.py:264: RuntimeWarning: Missing cross-reference index for FatJet_subJetIdx1 => SubJet\n",
      "  warnings.warn(\n",
      "/usr/local/lib/python3.12/site-packages/coffea/nanoevents/schemas/nanoaod.py:264: RuntimeWarning: Missing cross-reference index for FatJet_subJetIdx2 => SubJet\n",
      "  warnings.warn(\n",
      "/usr/local/lib/python3.12/site-packages/coffea/nanoevents/schemas/nanoaod.py:264: RuntimeWarning: Missing cross-reference index for FsrPhoton_muonIdx => Muon\n",
      "  warnings.warn(\n",
      "/usr/local/lib/python3.12/site-packages/coffea/nanoevents/schemas/nanoaod.py:264: RuntimeWarning: Missing cross-reference index for Jet_electronIdx1 => Electron\n",
      "  warnings.warn(\n",
      "/usr/local/lib/python3.12/site-packages/coffea/nanoevents/schemas/nanoaod.py:264: RuntimeWarning: Missing cross-reference index for Jet_electronIdx2 => Electron\n",
      "  warnings.warn(\n",
      "/usr/local/lib/python3.12/site-packages/coffea/nanoevents/schemas/nanoaod.py:264: RuntimeWarning: Missing cross-reference index for Jet_muonIdx1 => Muon\n",
      "  warnings.warn(\n",
      "/usr/local/lib/python3.12/site-packages/coffea/nanoevents/schemas/nanoaod.py:264: RuntimeWarning: Missing cross-reference index for Jet_muonIdx2 => Muon\n",
      "  warnings.warn(\n",
      "/usr/local/lib/python3.12/site-packages/coffea/nanoevents/schemas/nanoaod.py:264: RuntimeWarning: Missing cross-reference index for Muon_fsrPhotonIdx => FsrPhoton\n",
      "  warnings.warn(\n",
      "/usr/local/lib/python3.12/site-packages/coffea/nanoevents/schemas/nanoaod.py:264: RuntimeWarning: Missing cross-reference index for Muon_jetIdx => Jet\n",
      "  warnings.warn(\n",
      "/usr/local/lib/python3.12/site-packages/coffea/nanoevents/schemas/nanoaod.py:264: RuntimeWarning: Missing cross-reference index for Photon_electronIdx => Electron\n",
      "  warnings.warn(\n",
      "/usr/local/lib/python3.12/site-packages/coffea/nanoevents/schemas/nanoaod.py:264: RuntimeWarning: Missing cross-reference index for Photon_jetIdx => Jet\n",
      "  warnings.warn(\n",
      "/usr/local/lib/python3.12/site-packages/coffea/nanoevents/schemas/nanoaod.py:264: RuntimeWarning: Missing cross-reference index for Tau_jetIdx => Jet\n",
      "  warnings.warn(\n"
     ]
    }
   ],
   "source": [
    "to_compute = apply_to_fileset(\n",
    "    SimpleAnalysis(),\n",
    "    a,\n",
    "    schemaclass=NanoAODSchema # Set of useful funcs for special experiments\n",
    ")"
   ]
  },
  {
   "cell_type": "code",
   "execution_count": 37,
   "id": "dab749a6-899f-413c-8b8b-23df4b8784a1",
   "metadata": {},
   "outputs": [],
   "source": [
    "import dask # Scaling"
   ]
  },
  {
   "cell_type": "code",
   "execution_count": 38,
   "id": "1ec7f3bb-4990-4b55-a6e2-7cff7dc7e68b",
   "metadata": {},
   "outputs": [],
   "source": [
    "output, = dask.compute(to_compute)"
   ]
  },
  {
   "cell_type": "code",
   "execution_count": 39,
   "id": "841e13f9-29ae-4f62-9efe-6710c11a164a",
   "metadata": {},
   "outputs": [
    {
     "data": {
      "text/plain": [
       "[StairsArtists(stairs=<matplotlib.patches.StepPatch object at 0x7fd0ba211790>, errorbar=<ErrorbarContainer object of 3 artists>, legend_artist=<ErrorbarContainer object of 3 artists>)]"
      ]
     },
     "execution_count": 39,
     "metadata": {},
     "output_type": "execute_result"
    },
    {
     "data": {
      "image/png": "[encoded data removed]",
      "text/plain": [
       "<Figure size 640x480 with 1 Axes>"
      ]
     },
     "metadata": {},
     "output_type": "display_data"
    }
   ],
   "source": [
    "output['SimulatedData']['Electron']['Tranverse Momentum'].plot()"
   ]
  },
  {
   "cell_type": "code",
   "execution_count": null,
   "id": "e55eb351-996d-4c5d-a3d7-1828cafce493",
   "metadata": {},
   "outputs": [],
   "source": []
  }
 ],
 "metadata": {
  "kernelspec": {
   "display_name": "Python 3 (ipykernel)",
   "language": "python",
   "name": "python3"
  },
  "language_info": {
   "codemirror_mode": {
    "name": "ipython",
    "version": 3
   },
   "file_extension": ".py",
   "mimetype": "text/x-python",
   "name": "python",
   "nbconvert_exporter": "python",
   "pygments_lexer": "ipython3",
   "version": "3.12.5"
  }
 },
 "nbformat": 4,
 "nbformat_minor": 5
}
